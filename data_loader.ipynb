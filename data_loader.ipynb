{
 "cells": [
  {
   "cell_type": "code",
   "execution_count": 1,
   "metadata": {},
   "outputs": [
    {
     "name": "stderr",
     "output_type": "stream",
     "text": [
      "C:\\Users\\npchi\\AppData\\Roaming\\Python\\Python312\\site-packages\\Bio\\Entrez\\__init__.py:734: UserWarning: \n",
      "            Email address is not specified.\n",
      "\n",
      "            To make use of NCBI's E-utilities, NCBI requires you to specify your\n",
      "            email address with each request.  As an example, if your email address\n",
      "            is A.N.Other@example.com, you can specify it as follows:\n",
      "               from Bio import Entrez\n",
      "               Entrez.email = 'A.N.Other@example.com'\n",
      "            In case of excessive usage of the E-utilities, NCBI will attempt to contact\n",
      "            a user at the email address provided before blocking access to the\n",
      "            E-utilities.\n",
      "  warnings.warn(\n"
     ]
    },
    {
     "name": "stdout",
     "output_type": "stream",
     "text": [
      "Fetched 6000 sequences (AMP: 3000, nAMP: 3000) and saved to peptides.fasta.\n"
     ]
    }
   ],
   "source": [
    "from Bio import Entrez, SeqIO\n",
    "\n",
    "def fetch_sequences(amp_count=3000, namp_count=3000, output_file='peptides.fasta'):\n",
    "\n",
    "    # Fetch antimicrobial peptides (AMP)\n",
    "    search_term_amp = \"antimicrobial peptide[Title] OR antimicrobial peptide[All Fields]\"\n",
    "    handle_amp = Entrez.esearch(db=\"protein\", term=search_term_amp, retmax=amp_count)\n",
    "    record_amp = Entrez.read(handle_amp)\n",
    "    handle_amp.close()\n",
    "\n",
    "    # Get the list of AMP IDs\n",
    "    amp_ids = record_amp['IdList']\n",
    "\n",
    "    # Fetch the sequences for AMP\n",
    "    sequences = []\n",
    "    for i in range(0, len(amp_ids), 200):  # Fetch in batches of 200\n",
    "        batch_ids = amp_ids[i:i + 200]\n",
    "        id_string = ','.join(batch_ids)\n",
    "        fetch_handle = Entrez.efetch(db=\"protein\", id=id_string, rettype=\"fasta\", retmode=\"text\")\n",
    "        for record in SeqIO.parse(fetch_handle, \"fasta\"):\n",
    "            sequences.append(f\">{record.id} AMP\\n{record.seq}\")\n",
    "        fetch_handle.close()\n",
    "\n",
    "    # Fetch non-antimicrobial peptides (nAMP)\n",
    "    search_term_namp = \"peptide[Title] NOT (antimicrobial peptide[Title] OR antimicrobial peptide[All Fields])\"\n",
    "    handle_namp = Entrez.esearch(db=\"protein\", term=search_term_namp, retmax=namp_count)\n",
    "    record_namp = Entrez.read(handle_namp)\n",
    "    handle_namp.close()\n",
    "\n",
    "    # Get the list of nAMP IDs\n",
    "    namp_ids = record_namp['IdList']\n",
    "\n",
    "    # Fetch the sequences for nAMP\n",
    "    for i in range(0, len(namp_ids), 200):  # Fetch in batches of 200\n",
    "        batch_ids = namp_ids[i:i + 200]\n",
    "        id_string = ','.join(batch_ids)\n",
    "        fetch_handle = Entrez.efetch(db=\"protein\", id=id_string, rettype=\"fasta\", retmode=\"text\")\n",
    "        for record in SeqIO.parse(fetch_handle, \"fasta\"):\n",
    "            sequences.append(f\">{record.id} nAMP\\n{record.seq}\")\n",
    "        fetch_handle.close()\n",
    "\n",
    "    # Save all sequences to a FASTA file\n",
    "    with open(output_file, 'w') as fasta_file:\n",
    "        fasta_file.write(\"\\n\".join(sequences))\n",
    "\n",
    "    print(f\"Fetched {len(sequences)} sequences (AMP: {amp_count}, nAMP: {namp_count}) and saved to {output_file}.\")\n",
    "\n",
    "fetch_sequences()"
   ]
  }
 ],
 "metadata": {
  "kernelspec": {
   "display_name": "tktmdt",
   "language": "python",
   "name": "python3"
  },
  "language_info": {
   "codemirror_mode": {
    "name": "ipython",
    "version": 3
   },
   "file_extension": ".py",
   "mimetype": "text/x-python",
   "name": "python",
   "nbconvert_exporter": "python",
   "pygments_lexer": "ipython3",
   "version": "3.12.5"
  }
 },
 "nbformat": 4,
 "nbformat_minor": 2
}
